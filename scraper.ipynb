{
 "cells": [
  {
   "cell_type": "code",
   "execution_count": 40,
   "metadata": {},
   "outputs": [],
   "source": [
    "import requests\n",
    "from bs4 import BeautifulSoup\n",
    "import re\n",
    "import csv\n",
    "import pandas as pd\n",
    "\n",
    "def get_ids():\n",
    "    ids = []\n",
    "    with open(\"quest_idx.txt\", \"r\") as file: #this file is from questie addon to get all quest ids\n",
    "        quest_idx = file.readlines()\n",
    "        for i,x in enumerate(quest_idx):\n",
    "            if i<48: continue\n",
    "            try: \n",
    "                match = re.search(r'\\[(\\d+)\\]', x)\n",
    "                ids.append(match.group(1))\n",
    "            except AttributeError: break\n",
    "    return ids\n",
    "\n",
    "def write_quest_description(path, ids):\n",
    "    with open(path, 'w', newline='') as file:\n",
    "        writer = csv.writer(file)  \n",
    "        writer.writerow([\"id\", \"description\"])   \n",
    "        for j,id in enumerate(ids):\n",
    "            url = \"https://classicdb.ch/?quest=\" + id\n",
    "            response = requests.get(url)\n",
    "\n",
    "            soup = BeautifulSoup(response.content, \"html.parser\")\n",
    "\n",
    "            description_header = soup.find(\"h3\", string=\"Description\")\n",
    "            if description_header is None:\n",
    "                continue\n",
    "            quest_description = \"\"\n",
    "\n",
    "            for sibling in description_header.next_siblings:\n",
    "                if sibling.name == \"h3\":\n",
    "                    break\n",
    "                if sibling.string:\n",
    "                    quest_description += sibling.string.strip()\n",
    "            \n",
    "            writer.writerow([id, quest_description])\n",
    "\n",
    "def remove_duplicates(source_path, target_path=None):\n",
    "    # Read in the CSV file\n",
    "    df = pd.read_csv(source_path)\n",
    "    def extract_string(s):\n",
    "        return s[:20]\n",
    "\n",
    "    df.iloc[:, 1] = df.iloc[:, 1].apply(extract_string)\n",
    "    df = df.drop_duplicates(subset=df.columns[1], keep='first')\n",
    "\n",
    "\n",
    "    # Save the new CSV file\n",
    "    if target_path:\n",
    "        df.to_csv(target_path, index=False)\n",
    "        \n"
   ]
  }
 ],
 "metadata": {
  "kernelspec": {
   "display_name": "base",
   "language": "python",
   "name": "python3"
  },
  "language_info": {
   "codemirror_mode": {
    "name": "ipython",
    "version": 3
   },
   "file_extension": ".py",
   "mimetype": "text/x-python",
   "name": "python",
   "nbconvert_exporter": "python",
   "pygments_lexer": "ipython3",
   "version": "3.8.16"
  },
  "orig_nbformat": 4
 },
 "nbformat": 4,
 "nbformat_minor": 2
}
